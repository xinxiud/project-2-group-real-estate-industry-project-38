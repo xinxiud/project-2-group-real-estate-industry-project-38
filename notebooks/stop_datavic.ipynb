{
 "cells": [
  {
   "cell_type": "code",
   "execution_count": 6,
   "metadata": {},
   "outputs": [
    {
     "name": "stderr",
     "output_type": "stream",
     "text": [
      "/var/folders/kt/yhd0mp_91gn1qrk_l__r080r0000gn/T/ipykernel_8704/149791997.py:34: FutureWarning: The behavior of DataFrame concatenation with empty or all-NA entries is deprecated. In a future version, this will no longer exclude empty or all-NA columns when determining the result dtypes. To retain the old behavior, exclude the relevant entries before the concat operation.\n",
      "  combined_stops_df = pd.concat(stops_files, ignore_index=True)\n"
     ]
    }
   ],
   "source": [
    "import requests\n",
    "import zipfile\n",
    "import io\n",
    "import os\n",
    "import pandas as pd\n",
    "\n",
    "# 1. 从网站下载数据\n",
    "url = 'https://data.ptv.vic.gov.au/downloads/gtfs.zip'\n",
    "response = requests.get(url)\n",
    "\n",
    "# 2. 解压下载的zip文件\n",
    "with zipfile.ZipFile(io.BytesIO(response.content)) as the_zip:\n",
    "    the_zip.extractall('/Users/daixinxiu/Documents/GitHub/project-2-group-real-estate-industry-project-38/data/landing/stops_datavic')\n",
    "\n",
    "# 3. 解压子文件夹中的所有zip文件\n",
    "extracted_folder_path = '/Users/daixinxiu/Documents/GitHub/project-2-group-real-estate-industry-project-38/data/landing/stops_datavic'\n",
    "for root, dirs, files in os.walk(extracted_folder_path):\n",
    "    for file in files:\n",
    "        if file.endswith('.zip'):\n",
    "            file_path = os.path.join(root, file)\n",
    "            with zipfile.ZipFile(file_path, 'r') as zip_ref:\n",
    "                zip_ref.extractall(root)\n",
    "\n",
    "# 4. 合并所有stops.txt文件为一个CSV\n",
    "stops_files = []\n",
    "for root, dirs, files in os.walk(extracted_folder_path):\n",
    "    for file in files:\n",
    "        if file == 'stops.txt':\n",
    "            file_path = os.path.join(root, file)\n",
    "            df = pd.read_csv(file_path)\n",
    "            stops_files.append(df)\n",
    "\n",
    "# 将所有DataFrame合并为一个\n",
    "combined_stops_df = pd.concat(stops_files, ignore_index=True)\n",
    "\n",
    "# 保存为一个新的CSV文件\n",
    "output_csv_path = '/Users/daixinxiu/Documents/GitHub/project-2-group-real-estate-industry-project-38/data/raw/stops_datavic.csv'\n",
    "combined_stops_df.to_csv(output_csv_path, index=False)\n"
   ]
  },
  {
   "cell_type": "code",
   "execution_count": 7,
   "metadata": {},
   "outputs": [
    {
     "name": "stdout",
     "output_type": "stream",
     "text": [
      "Number of rows deleted due to duplicate stop_id: 501\n"
     ]
    }
   ],
   "source": [
    "import pandas as pd\n",
    "import re\n",
    "\n",
    "def process_stops_csv(input_csv, output_csv):\n",
    "    # 读取CSV文件\n",
    "    df = pd.read_csv(input_csv)\n",
    "    \n",
    "    # 删除stop_id重复的行，并获取删除的数量\n",
    "    before_count = len(df)\n",
    "    df = df.drop_duplicates(subset=['stop_id'])\n",
    "    after_count = len(df)\n",
    "    deleted_count = before_count - after_count\n",
    "    \n",
    "    # 输出删除的数量\n",
    "    print(f\"Number of rows deleted due to duplicate stop_id: {deleted_count}\")\n",
    "    \n",
    "    # 提取stop_name中的Region信息\n",
    "    df['Region'] = df['stop_name'].apply(lambda x: re.search(r'\\((.*?)\\)', x).group(1) if re.search(r'\\((.*?)\\)', x) else 'Unknown')\n",
    "    \n",
    "    # 将处理后的DataFrame保存到新的CSV文件\n",
    "    df.to_csv(output_csv, index=False)\n",
    "    \n",
    "    return deleted_count\n",
    "\n",
    "# 示例使用\n",
    "input_csv = '/Users/daixinxiu/Documents/GitHub/project-2-group-real-estate-industry-project-38/data/raw/stops_datavic.csv'\n",
    "\n",
    "output_csv = '/Users/daixinxiu/Documents/GitHub/project-2-group-real-estate-industry-project-38/data/curated/stops_datavic.csv'\n",
    "\n",
    "\n",
    "deleted_rows = process_stops_csv(input_csv, output_csv)\n"
   ]
  }
 ],
 "metadata": {
  "kernelspec": {
   "display_name": "base",
   "language": "python",
   "name": "python3"
  },
  "language_info": {
   "codemirror_mode": {
    "name": "ipython",
    "version": 3
   },
   "file_extension": ".py",
   "mimetype": "text/x-python",
   "name": "python",
   "nbconvert_exporter": "python",
   "pygments_lexer": "ipython3",
   "version": "3.11.7"
  }
 },
 "nbformat": 4,
 "nbformat_minor": 2
}
